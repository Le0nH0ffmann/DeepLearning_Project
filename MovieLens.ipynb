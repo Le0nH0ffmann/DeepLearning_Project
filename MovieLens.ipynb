{
 "cells": [
  {
   "cell_type": "markdown",
   "source": [
    "# DeepLearning projekt with tensorflow and the MovieLens"
   ],
   "metadata": {
    "collapsed": false
   }
  },
  {
   "cell_type": "markdown",
   "source": [
    "first the imports"
   ],
   "metadata": {
    "collapsed": false
   }
  },
  {
   "cell_type": "code",
   "execution_count": null,
   "outputs": [],
   "source": [
    "import tensorflow as tf\n",
    "import math\n",
    "import matplotlib.pyplot as plt\n",
    "from tensorflow import keras\n",
    "import pandas as pd\n",
    "import pathlib as Path\n",
    "import zipfile as ZipFile\n",
    "from tensorflow.keras import layers\n",
    "import numpy as np"
   ],
   "metadata": {
    "collapsed": false
   }
  },
  {
   "cell_type": "code",
   "execution_count": null,
   "outputs": [],
   "source": [
    "import pathlib\n",
    "\n",
    "movielens_data_file_url = (\n",
    "    \"http://files.grouplens.org/datasets/movielens/ml-100k.zip\"\n",
    ")\n",
    "\n",
    "movielens_zipped_file = keras.utils.get_file(\n",
    "    \"ml-100k.zip\", movielens_data_file_url, extract=False\n",
    ")\n",
    "\n",
    "keras_datasets_path = pathlib.Path(movielens_zipped_file).parents[0]\n",
    "movielens_dir = keras_datasets_path / \"ml-100k\"\n",
    "\n",
    "\n",
    "# Only extract the data the first time the script is run.\n",
    "if not movielens_dir.exists():\n",
    "    with ZipFile(movielens_zipped_file, \"r\") as zip:\n",
    "        # Extract files\n",
    "        print(\"Extracting all the files now...\")\n",
    "        zip.extractall(path=keras_datasets_path)\n",
    "        print(\"Done!\")\n",
    "\n",
    "u_data = movielens_dir / \"u.data\"\n",
    "\n",
    "\n",
    "data = pd.read_csv(u_data, delimiter=\"\t\", header=None)\n",
    "\n",
    "headerList = ['user_id', 'item_id', 'rating', 'timestamp']\n",
    "data.to_csv(\"movie_lens_data\", header=headerList, index=False)\n",
    "data = pd.read_csv(\"movie_lens_data\")\n",
    "data = data.drop(columns='timestamp')\n",
    "\n",
    "print(data)"
   ],
   "metadata": {
    "collapsed": false
   }
  },
  {
   "cell_type": "code",
   "execution_count": null,
   "outputs": [],
   "source": [
    "# getting the users\n",
    "user_id = data._get_column_array(0)\n",
    "print(\"user id\")\n",
    "print(user_id)\n",
    "user2user_encoded = {x: i for i, x in enumerate(user_id)}\n",
    "num_users = len(user2user_encoded)\n",
    "print(\"num useres: \", num_users)\n",
    "\n",
    "# getting the items\n",
    "item_id = data._get_column_array(1)\n",
    "print(\"item id\")\n",
    "print(item_id)\n",
    "item2item_encoded = {x: i for i, x in enumerate(item_id)}\n",
    "num_movies = len(item2item_encoded)\n",
    "print(\"num movies: \", num_movies)\n"
   ],
   "metadata": {
    "collapsed": false
   }
  },
  {
   "cell_type": "code",
   "execution_count": null,
   "outputs": [],
   "source": [
    "min_rating = 1\n",
    "max_rating = 5\n",
    "\n",
    "x = data[[\"user_id\", \"item_id\"]].values\n",
    "# Normalize the targets between 0 and 1. Makes it easy to train.\n",
    "y = data[\"rating\"].apply(lambda x: (x - min_rating) / (max_rating - min_rating)).values\n",
    "\n",
    "#splitting to x_train and x_test:\n",
    "# x = np.asarray(x)\n",
    "# y = np.asarray(y)\n",
    "n_rand = np.random.rand(len(x)) <= 0.9\n",
    "x_train = x[n_rand]\n",
    "x_test = x[~n_rand]\n",
    "y_train = y[n_rand]\n",
    "y_test = y[~n_rand]\n",
    "print(np.shape(x_test), np.shape(x_train), np.shape(y_test), np.shape(y_train))\n",
    "\n",
    "print(\"x_train: \")\n",
    "print(x_train)\n",
    "print(tf.shape(x))\n",
    "\n",
    "print(\"y_train: \")\n",
    "print(y_train)"
   ],
   "metadata": {
    "collapsed": false
   }
  },
  {
   "cell_type": "code",
   "execution_count": null,
   "outputs": [],
   "source": [
    "embedding_size = 50\n",
    "\n",
    "def RecommenderV1(n_users, n_movies, n_factors):\n",
    "    user = keras.Input(shape=(1,))\n",
    "    u = keras.layers.Embedding(n_users, n_factors, embeddings_initializer='he_normal',\n",
    "                  embeddings_regularizer=keras.regularizers.l2(1e-6))(user)\n",
    "    u = tf.reshape((n_factors,))(u)\n",
    "\n",
    "    movie = keras.Input(shape=(1,))\n",
    "    m = keras.Embedding(n_movies, n_factors, embeddings_initializer='he_normal',\n",
    "                  embeddings_regularizer=keras.regularizers.l2(1e-6))(movie)\n",
    "    m = keras.Reshape((n_factors,))(m)\n",
    "\n",
    "    x = keras.Dot(axes=1)([u, m])\n",
    "\n",
    "    model = keras.models.Model(inputs=[user, movie], outputs=x)\n",
    "    opt = keras.optimizers.Adam(learning_rate=0.001)\n",
    "    model.compile(loss='mean_squared_error', optimizer=opt)\n",
    "\n",
    "    return model\n",
    "\n",
    "model = RecommenderV1(num_users, num_movies, embedding_size)"
   ],
   "metadata": {
    "collapsed": false
   }
  },
  {
   "cell_type": "code",
   "execution_count": null,
   "outputs": [],
   "source": [
    "history = model.fit(\n",
    "    x=x_train,\n",
    "    y=y_train,\n",
    "    batch_size=64,\n",
    "    epochs=20,\n",
    "    # verbose=1,\n",
    "    # validation_data=(x_test, y_test),\n",
    ")"
   ],
   "metadata": {
    "collapsed": false
   }
  },
  {
   "cell_type": "code",
   "execution_count": null,
   "outputs": [],
   "source": [
    "\n",
    "plt.plot(history.history[\"loss\"])\n",
    "plt.plot(history.history[\"accuracy\"])\n",
    "plt.plot(history.history[\"val_loss\"])\n",
    "# plt.plot(history.history[\"accuracy\"])\n",
    "plt.title(\"model loss\")\n",
    "plt.ylabel(\"loss\")\n",
    "plt.xlabel(\"epoch\")\n",
    "plt.legend([\"loss\", \"accuracy\", \"val_loss\"], loc=\"best\")\n",
    "plt.show()"
   ],
   "metadata": {
    "collapsed": false
   }
  },
  {
   "cell_type": "code",
   "execution_count": null,
   "outputs": [],
   "source": [],
   "metadata": {
    "collapsed": false
   }
  }
 ],
 "metadata": {
  "kernelspec": {
   "display_name": "Python 3 (ipykernel)",
   "language": "python",
   "name": "python3"
  },
  "language_info": {
   "codemirror_mode": {
    "name": "ipython",
    "version": 3
   },
   "file_extension": ".py",
   "mimetype": "text/x-python",
   "name": "python",
   "nbconvert_exporter": "python",
   "pygments_lexer": "ipython3",
   "version": "3.9.5"
  }
 },
 "nbformat": 4,
 "nbformat_minor": 1
}
